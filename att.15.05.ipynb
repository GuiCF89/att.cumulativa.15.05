{
 "cells": [
  {
   "cell_type": "code",
   "execution_count": 1,
   "metadata": {},
   "outputs": [
    {
     "name": "stdout",
     "output_type": "stream",
     "text": [
      "Está letra é uma vogal.\n"
     ]
    }
   ],
   "source": [
    "#1\n",
    "\n",
    "L = str(input(\"Digite aqui uma letra qualquer: \"))\n",
    "vogais = ['A','a','E','e','I','i','O','o','U','u']\n",
    "\n",
    "if L in vogais:\n",
    "    print('Está letra é uma vogal.')\n",
    "else:\n",
    "    print('Está letra é uma consoante.')\n"
   ]
  },
  {
   "cell_type": "code",
   "execution_count": 4,
   "metadata": {},
   "outputs": [
    {
     "name": "stdout",
     "output_type": "stream",
     "text": [
      "O produto que você deve comprar é o mentos\n"
     ]
    }
   ],
   "source": [
    "#2\n",
    "p1 = str(input('Digite aqui o nome do produto: '))\n",
    "v1 = float(input('Agora, digite aqui o preço do produto: '))\n",
    "    \n",
    "p2 = str(input('Digite aqui o nome do produto: '))\n",
    "v2 = float(input('Agora, digite aqui o preço do produto: '))\n",
    "    \n",
    "p3 = str(input('Digite aqui o nome do produto: '))\n",
    "v3 = float(input('Agora, digite aqui o preço do produto: '))\n",
    "\n",
    "menor_preco = 0\n",
    "\n",
    "if (v1 < v2 and v1 < v3):\n",
    "    menor_preco = p1\n",
    "elif  (v2 < v1 and v2 < v3):\n",
    "    menor_preco = p2\n",
    "else:\n",
    "    menor_preco = p3\n",
    "    \n",
    "\n",
    "print(f'O produto que você deve comprar é o {menor_preco}')\n",
    "    "
   ]
  },
  {
   "cell_type": "code",
   "execution_count": 3,
   "metadata": {},
   "outputs": [
    {
     "name": "stdout",
     "output_type": "stream",
     "text": [
      "20.0 9.0 7.0\n"
     ]
    }
   ],
   "source": [
    "\n",
    "#3\n",
    "numero1 = float(input('Digite o primeiro número'))\n",
    "numero2 = float(input('Digite o segundo número'))\n",
    "numero3 = float(input('Digite o terceiro número'))\n",
    "\n",
    "\n",
    "if numero1 > numero2 and numero1 > numero3:\n",
    "    nuMaior = numero1\n",
    "elif numero1 > numero2 and numero1 < numero3:\n",
    "    nuDoMeio = numero1\n",
    "elif numero1 < numero2 and numero1 > numero3:\n",
    "    nuDoMeio = numero1\n",
    "else:\n",
    "    nuMenor = numero1\n",
    "\n",
    "\n",
    "if numero2 > numero1 and numero2 > numero3:\n",
    "    nuMaior = numero2\n",
    "elif numero2 > numero1 and numero2 < numero3:\n",
    "    nuDoMeio = numero2\n",
    "elif numero2 < numero1 and numero2 > numero3:\n",
    "    nuDoMeio = numero2\n",
    "else:\n",
    "    nuMenor = numero2\n",
    "\n",
    "\n",
    "if numero3 > numero1 and numero3 > numero2:\n",
    "    nuMaior = numero3\n",
    "elif numero3 > numero1 and numero3 < numero2:\n",
    "    nuDoMeio = numero3\n",
    "elif numero3 < numero1 and numero3 > numero2:\n",
    "    nuDoMeio = numero3\n",
    "else:\n",
    "    nuMenor = numero3\n",
    "\n",
    "print(nuMaior, nuDoMeio, nuMenor)\n",
    "\n"
   ]
  },
  {
   "cell_type": "code",
   "execution_count": 4,
   "metadata": {},
   "outputs": [
    {
     "name": "stdout",
     "output_type": "stream",
     "text": [
      "Boa Tarde!\n"
     ]
    }
   ],
   "source": [
    "#4\n",
    "turno = str(input('Em que turno você estuda? responda com M, V ou N'))\n",
    "m = ['M','Matutino']\n",
    "v = ['V','Vespertino']\n",
    "n = ['N','Noturno']\n",
    "\n",
    "\n",
    "if turno in m:\n",
    "    print('Bom Dia!')\n",
    "elif turno in v:\n",
    "    print('Boa Tarde!')\n",
    "elif turno in n:\n",
    "    print('Boa Noite!')\n",
    "else:\n",
    "    print('Resposta Inválida')\n",
    "    \n"
   ]
  },
  {
   "cell_type": "code",
   "execution_count": 2,
   "metadata": {},
   "outputs": [
    {
     "name": "stdout",
     "output_type": "stream",
     "text": [
      "Quarta\n"
     ]
    }
   ],
   "source": [
    "#5\n",
    "dia = int(input('Escolha um número de 1 até 7: '))\n",
    "\n",
    "dias = ['Domingo', 'Segunda', 'Terça', 'Quarta', 'Quinta', 'Sexta', 'Sábado']\n",
    "\n",
    "\n",
    "#Lendo e identificando o dia.\n",
    "if (dia >= 1 and dia <= 7):\n",
    "    print(dias[dia - 1])\n",
    "else:\n",
    "    print(\"Inválido!\")"
   ]
  },
  {
   "cell_type": "code",
   "execution_count": 3,
   "metadata": {},
   "outputs": [
    {
     "name": "stdout",
     "output_type": "stream",
     "text": [
      "Aprovado! Com notas 9.0 e 5.0, com média 7.0 e conceito C\n"
     ]
    }
   ],
   "source": [
    "#5.1\n",
    "nota1= float(input(\"Digite a primeira nota do aluno\"))\n",
    "nota2 = float(input(\"Digite a segunda nota do aluno\"))\n",
    "media = ((nota1 + nota2) / 2) \n",
    "\n",
    "conceitos = ['A', 'B', 'C', 'D', 'E']\n",
    "\n",
    "if (media >= 9 and media <= 10):\n",
    "    print(f\"Aprovado! Com notas {nota1} e {nota2}, com média {media} e conceito\", conceitos[0])\n",
    "elif (media >= 7.5 and media <= 9):\n",
    "    print(f\"Aprovado! Com notas {nota1} e {nota2}, com média {media} e conceito\", conceitos[1])\n",
    "elif (media >= 6 and media <= 7.5):\n",
    "    print(f\"Aprovado! Com notas {nota1} e {nota2}, com média {media} e conceito\", conceitos[2])\n",
    "elif (media >= 4 and media <= 6):\n",
    "    print(f\"Reprovado! Com notas {nota1} e {nota2}, com média {media} e conceito\", conceitos[3])\n",
    "elif (media >= 4 and media <= 0):\n",
    "    print(f\"Reprovado! Com notas {nota1} e {nota2}, com média {media} e conceito\", conceitos[4])"
   ]
  },
  {
   "cell_type": "code",
   "execution_count": 5,
   "metadata": {},
   "outputs": [
    {
     "name": "stdout",
     "output_type": "stream",
     "text": [
      "O ano de 2004 é bissexto!\n"
     ]
    }
   ],
   "source": [
    "#6\n",
    "ano = int(input('Digite aqui o número que corresponde a algum ano: '))\n",
    "\n",
    "if (ano % 4 == 0 and ano % 100 !=0) or (ano % 400 == 0):\n",
    "    print(f'O ano de {ano} é bissexto!')\n",
    "else:\n",
    "    print(f'O ano de {ano} não é bissexto!')"
   ]
  },
  {
   "cell_type": "code",
   "execution_count": 7,
   "metadata": {},
   "outputs": [
    {
     "name": "stdout",
     "output_type": "stream",
     "text": [
      "O resultado é: 196.0\n",
      "O numero é par.\n",
      "O resultado é positivo\n",
      "O numero é inteiro\n"
     ]
    }
   ],
   "source": [
    "#7\n",
    "numero1 = float(input('Insira um numero: '))\n",
    "numero2 = float(input('Insira um numero: '))\n",
    "operacao =  input('Insira uma operação: ')\n",
    "\n",
    "\n",
    "\n",
    "if operacao == '+':\n",
    "    resultado = numero1 + numero2\n",
    "elif operacao == '-':\n",
    "    resultado = numero1 - numero2\n",
    "elif operacao == '*':\n",
    "    resultado = numero1 * numero2\n",
    "elif operacao == '**':\n",
    "   resultado = numero1 ** numero2\n",
    "elif operacao == '/':\n",
    "    if  numero2 != 0:\n",
    "        resultado = numero1 / numero2\n",
    "    else:\n",
    "        print('operacao inválida')\n",
    "        resultado = None\n",
    "else:\n",
    "    print('Insira uma operação valida.')\n",
    "    resultado = None\n",
    "\n",
    "if resultado is not None:\n",
    "    print ('O resultado é:', resultado)\n",
    "\n",
    "\n",
    "if resultado % 2 == 0:\n",
    "    print('O numero é par.')\n",
    "else:\n",
    "    print('O numero é impar')\n",
    "\n",
    "if resultado < 0:\n",
    "    print('O resultado é negativo')\n",
    "else:\n",
    "    print('O resultado é positivo')\n",
    "\n",
    "if resultado.is_integer():\n",
    "    print('O numero é inteiro')\n",
    "else:\n",
    "    print('O numero é decimal')"
   ]
  },
  {
   "cell_type": "code",
   "execution_count": 8,
   "metadata": {},
   "outputs": [
    {
     "name": "stdout",
     "output_type": "stream",
     "text": [
      "A idade mencionada é de 19 anos.\n"
     ]
    }
   ],
   "source": [
    "#8\n",
    "idade = int(input('Digite aqui a sua idade: '))\n",
    "\n",
    "if (idade > 0 and idade < 150):\n",
    "    print(f'A idade mencionada é de {idade} anos.')\n",
    "else:\n",
    "    print('Idade inválida.')"
   ]
  },
  {
   "cell_type": "code",
   "execution_count": 2,
   "metadata": {},
   "outputs": [
    {
     "name": "stdout",
     "output_type": "stream",
     "text": [
      " O numero não é primo: \n"
     ]
    }
   ],
   "source": [
    "#9\n",
    "numero = int(input(\"Insira um numero: \"))\n",
    "\n",
    "if numero > 1:\n",
    "    for i in range(2, numero):\n",
    "        if (numero % i ==0):\n",
    "            print(\" O numero não é primo: \")\n",
    "            break\n",
    "    else:\n",
    "        print(\"O numero é primo: \")\n",
    "else:\n",
    "    print(\"O numero não é primo\")"
   ]
  },
  {
   "cell_type": "code",
   "execution_count": 4,
   "metadata": {},
   "outputs": [
    {
     "name": "stdout",
     "output_type": "stream",
     "text": [
      "A soma é: 185.0\n",
      "A média é: 37.0\n"
     ]
    }
   ],
   "source": [
    "#10\n",
    "numeros = []\n",
    "\n",
    "\n",
    "for i in range(5):\n",
    "    numero = float(input(\"Digite um número: \"))\n",
    "    numeros.append(numero)\n",
    "\n",
    "\n",
    "soma = sum(numeros)\n",
    "\n",
    "\n",
    "media = soma / len(numeros)\n",
    "\n",
    "\n",
    "print(\"A soma é:\", soma)\n",
    "print(\"A média é:\", media)"
   ]
  },
  {
   "cell_type": "code",
   "execution_count": null,
   "metadata": {},
   "outputs": [],
   "source": [
    "#11\n",
    "temp1 = []\n",
    "soma_temperaturas = 0\n",
    "\n",
    "for cont in range(5):\n",
    "    temperatura = int(input(\"Insira uma temperatura: \"))\n",
    "    temp1.append(temperatura)\n",
    "    soma_temperaturas += temperatura  \n",
    "    \n",
    "\n",
    "\n",
    "if temp1:\n",
    "    print(\"A maior temperatura é:\", max(temp1))\n",
    "    print(\"A menor temperatura é:\", min(temp1))\n",
    "    media_temperaturas = soma_temperaturas / len(temp1)  \n",
    "    print(\"A média das temperaturas é:\", media_temperaturas)\n",
    "else:\n",
    "    print(\"Nenhuma temperatura foi inserida.\")"
   ]
  },
  {
   "cell_type": "code",
   "execution_count": 5,
   "metadata": {},
   "outputs": [
    {
     "name": "stdout",
     "output_type": "stream",
     "text": [
      "20% de crédito:  444.0\n"
     ]
    }
   ],
   "source": [
    "#12\n",
    "saldo = int(input(\"Insira seu saldo medio\"))\n",
    "credito = 0\n",
    "\n",
    "if saldo < 200:\n",
    "    print(\"Você não receberá crédito.\")\n",
    "elif saldo <= 400:\n",
    "    credito = saldo * 0.2 + saldo\n",
    "    print(\"20% de crédito: \", credito)\n",
    "elif saldo <= 600:\n",
    "    credito = saldo * 0.3 + saldo\n",
    "    print(\"30% de crédito: \", credito)\n",
    "else:\n",
    "    credito = saldo * 0.4 + saldo\n",
    "    print(\"40% de crédito: \", credito)\n"
   ]
  },
  {
   "cell_type": "code",
   "execution_count": null,
   "metadata": {},
   "outputs": [],
   "source": [
    "#13 \n",
    "nome = input(\"Insira seu nome: \")\n",
    "idade = int(input(\"insira sua idade: \"))\n",
    "\n",
    "dif = 65 - idade\n",
    "\n",
    "aposentadoria = dif + 2024\n",
    "\n",
    "\n",
    "if idade >= 65:\n",
    "    print(f\"olá {nome}, você tem direito a aposentadoria. \")\n",
    "else:\n",
    "    print(f\"olá {nome}, você só terá direito da aposentadoria em {aposentadoria}, daqui a {dif}  anos\")\n"
   ]
  },
  {
   "cell_type": "code",
   "execution_count": null,
   "metadata": {},
   "outputs": [],
   "source": [
    "#14\n",
    "valorH = float(input(\"Qual o valor da hora? \"))\n",
    "qHoras = float(input(\"Quantas horas no mês?  \"))\n",
    "\n",
    "salario = valorH * qHoras\n",
    "\n",
    "if salario <= 2112.00:\n",
    "    desconto = 0\n",
    "elif salario <= 2826.65:\n",
    "    desconto = salario * 0.075\n",
    "elif salario <= 3751.05:\n",
    "    desconto = salario * 0.15\n",
    "elif salario <= 4664.68:\n",
    "    desconto = salario * 0.225\n",
    "else:\n",
    "    desconto = salario * 0.275\n",
    "\n",
    "descontoS = salario * 0.03\n",
    "fgts = salario * 0.11\n",
    "salarioL = salario - desconto - descontoS\n",
    "\n",
    "print(\"Salário Bruto: R$\", salario)\n",
    "print(\"Desconto do Imposto de Renda: R$\", desconto)\n",
    "print(\"Desconto do Sindicato: R$\", descontoS)\n",
    "print(\"Valor do FGTS: R$\", fgts)\n",
    "print(\"Salário Líquido: R$\", salarioL)\n"
   ]
  },
  {
   "cell_type": "code",
   "execution_count": null,
   "metadata": {},
   "outputs": [],
   "source": []
  }
 ],
 "metadata": {
  "kernelspec": {
   "display_name": "Python 3",
   "language": "python",
   "name": "python3"
  },
  "language_info": {
   "codemirror_mode": {
    "name": "ipython",
    "version": 3
   },
   "file_extension": ".py",
   "mimetype": "text/x-python",
   "name": "python",
   "nbconvert_exporter": "python",
   "pygments_lexer": "ipython3",
   "version": "3.12.1"
  }
 },
 "nbformat": 4,
 "nbformat_minor": 2
}
